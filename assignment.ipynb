{
  "nbformat": 4,
  "nbformat_minor": 0,
  "metadata": {
    "colab": {
      "provenance": [],
      "authorship_tag": "ABX9TyMwcr57HbvgvjX0z4IYltyh",
      "include_colab_link": true
    },
    "kernelspec": {
      "name": "python3",
      "display_name": "Python 3"
    },
    "language_info": {
      "name": "python"
    }
  },
  "cells": [
    {
      "cell_type": "markdown",
      "metadata": {
        "id": "view-in-github",
        "colab_type": "text"
      },
      "source": [
        "<a href=\"https://colab.research.google.com/github/vahedshaik/Assignment-1/blob/master/assignment.ipynb\" target=\"_parent\"><img src=\"https://colab.research.google.com/assets/colab-badge.svg\" alt=\"Open In Colab\"/></a>"
      ]
    },
    {
      "cell_type": "code",
      "execution_count": null,
      "metadata": {
        "id": "m_7np7T66IpS"
      },
      "outputs": [],
      "source": [
        "print(\"Hello World\")\n",
        "name = \"Vahed\"\n",
        "print(name)\n",
        "\n"
      ]
    },
    {
      "cell_type": "code",
      "source": [
        "print(\"5+1=\",1+1)\n",
        "print(\"5-2=\",5-1)\n",
        "print(\"5*2=\",5*1)\n",
        "print(\"5/2=\",5/1)\n",
        "print(\"5%2=\",5%2)\n",
        "print(\"5**1=\",5**1)\n",
        "print(\"5//1=\",5//1)\n"
      ],
      "metadata": {
        "id": "hucvvYfU7TrS"
      },
      "execution_count": null,
      "outputs": []
    },
    {
      "cell_type": "code",
      "source": [
        "a = \"Hello World\"\n",
        "print(len(a))\n"
      ],
      "metadata": {
        "id": "fTuIy1Z_9Voe"
      },
      "execution_count": null,
      "outputs": []
    },
    {
      "cell_type": "code",
      "source": [
        "a = \"Hello World\"\n",
        "print(a.replace(\"H\", \"C\"))\n"
      ],
      "metadata": {
        "id": "rZMcjE4j_qEb"
      },
      "execution_count": null,
      "outputs": []
    },
    {
      "cell_type": "code",
      "source": [
        "thistuple = (\"yesterday\", \"today\", \"tmrw\")\n",
        "print(len(thistuple))\n"
      ],
      "metadata": {
        "id": "XUKM2rjk_56d"
      },
      "execution_count": null,
      "outputs": []
    },
    {
      "cell_type": "code",
      "source": [
        "thistuple = (\"today\", \"tmrw\")\n",
        "del thistuple"
      ],
      "metadata": {
        "id": "uSdM7CB-AcAr"
      },
      "execution_count": null,
      "outputs": []
    },
    {
      "cell_type": "code",
      "source": [
        "thislist = [\"today\", \"tmrw\"]\n",
        "print(thislist[1])"
      ],
      "metadata": {
        "id": "QLIUAq68AtrQ"
      },
      "execution_count": null,
      "outputs": []
    },
    {
      "cell_type": "code",
      "source": [
        "thislist = [\"today\", \"tmrw\"]\n",
        "thislist[1] = \"yesterday\"\n",
        "\n",
        "print(thislist)"
      ],
      "metadata": {
        "id": "b4Zj0LccBAbq"
      },
      "execution_count": null,
      "outputs": []
    },
    {
      "cell_type": "code",
      "source": [
        "thislist = [\"today\", \"tmrw\"]\n",
        "print(len(thislist))\n"
      ],
      "metadata": {
        "id": "maKufgtFBTSG"
      },
      "execution_count": null,
      "outputs": []
    },
    {
      "cell_type": "code",
      "source": [
        "thislist = [\"today\", \"tmrw\"]\n",
        "thislist.insert(1, \"yesterday\")\n",
        "print(thislist)"
      ],
      "metadata": {
        "id": "E1L2kNZiBwma"
      },
      "execution_count": null,
      "outputs": []
    },
    {
      "cell_type": "code",
      "source": [
        "thislist = [\"today\", \"tmrw\"]\n",
        "thislist.remove(\"today\")\n",
        "print(thislist)"
      ],
      "metadata": {
        "id": "3wB6LckZCf82"
      },
      "execution_count": null,
      "outputs": []
    },
    {
      "cell_type": "code",
      "source": [
        "thislist = [\"yesterday\", \"today\", \"tmrw\"]\n",
        "del thislist[0]\n",
        "print(thislist)"
      ],
      "metadata": {
        "id": "CLoFgHFKCneT"
      },
      "execution_count": null,
      "outputs": []
    },
    {
      "cell_type": "code",
      "source": [
        "thislist = [\"today\", \"tmrw\"]\n",
        "thislist.clear()\n",
        "print(thislist)\n"
      ],
      "metadata": {
        "id": "DqAXx4ueC1p_"
      },
      "execution_count": null,
      "outputs": []
    },
    {
      "cell_type": "code",
      "source": [
        "a = 38\n",
        "b = 33\n",
        "if b>a:\n",
        "  print(\"b is greater than a\")\n",
        "elif a==b:\n",
        "  print(\"a and b are equal\")\n",
        "else:\n",
        "  print(\"a is greater than b\")\n",
        "\n"
      ],
      "metadata": {
        "colab": {
          "base_uri": "https://localhost:8080/"
        },
        "id": "iTEnBEoBDsHo",
        "outputId": "fcf6402f-6d42-4090-d6f5-fd1693aaafaa"
      },
      "execution_count": null,
      "outputs": [
        {
          "output_type": "stream",
          "name": "stdout",
          "text": [
            "a is greater than b\n"
          ]
        }
      ]
    },
    {
      "cell_type": "code",
      "source": [
        "a = 1\n",
        "while a<6:\n",
        "  print(a)\n",
        "  a += 1\n"
      ],
      "metadata": {
        "id": "FaX7cWvBEAci"
      },
      "execution_count": null,
      "outputs": []
    },
    {
      "cell_type": "code",
      "source": [
        "days = [\"mon\", \"tue\", \"wed\"]\n",
        "for x in days:\n",
        "  print(x) \n"
      ],
      "metadata": {
        "id": "Q1FXwMSLEMy6"
      },
      "execution_count": null,
      "outputs": []
    },
    {
      "cell_type": "code",
      "source": [
        "class Person:\n",
        "  def __init__(self, name, age):\n",
        "    self.name = name\n",
        "    self.age = age\n",
        "\n",
        "  def myfunc(self):\n",
        "    print(\"Hello my name is \" + self.name)\n",
        "\n",
        "p1=Person(\"vahed\", 22)\n",
        "p1.myfunc()\n"
      ],
      "metadata": {
        "colab": {
          "base_uri": "https://localhost:8080/"
        },
        "id": "lYCzjB8FEuTg",
        "outputId": "23a1e288-0c20-4fba-b735-8ea9b8383f11"
      },
      "execution_count": null,
      "outputs": [
        {
          "output_type": "stream",
          "name": "stdout",
          "text": [
            "Hello my name is vahed\n"
          ]
        }
      ]
    },
    {
      "cell_type": "code",
      "source": [
        "class Person:\n",
        "  def __init__(self, name, age):\n",
        "    self.name=name\n",
        "    self.age=age\n",
        "\n",
        "  def myfunc(self):\n",
        "    print(\"Hello my name is \" + self.name)\n",
        "\n",
        "p1=Person(\"vahed\", 22)\n",
        "\n",
        "del p1.age\n",
        "\n",
        "print(p1.age)"
      ],
      "metadata": {
        "id": "7uXqMEOfE-JI"
      },
      "execution_count": null,
      "outputs": []
    },
    {
      "cell_type": "code",
      "source": [
        "class Person:\n",
        "  def __init__(self, name, age):\n",
        "    self.name=name\n",
        "    self.age=age\n",
        "\n",
        "  def myfunc(self):\n",
        "    print(\"Hello my name is \" + self.name)\n",
        "\n",
        "p1=Person(\"vahed\", 22)\n",
        "\n",
        "del p1\n",
        "\n",
        "print(p1)\n"
      ],
      "metadata": {
        "id": "SsF-yk0-FUsJ"
      },
      "execution_count": null,
      "outputs": []
    }
  ]
}